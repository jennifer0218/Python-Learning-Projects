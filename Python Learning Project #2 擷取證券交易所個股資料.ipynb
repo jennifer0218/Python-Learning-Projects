{
 "cells": [
  {
   "cell_type": "markdown",
   "metadata": {},
   "source": [
    "# Python Learning Project #2 擷取股票資料"
   ]
  },
  {
   "cell_type": "markdown",
   "metadata": {},
   "source": [
    "## 1. 擷取證券交易所資料"
   ]
  },
  {
   "cell_type": "markdown",
   "metadata": {},
   "source": [
    "台灣股票資訊皆為公開，因此可以使用 Python 擷取證券交易所上的資料進行可視化分析。\n",
    "\n",
    "許多網頁的資料是以 XMLHttpRequest (XHR) 的方式載入，使網頁可以在不刷新的情況下進行更新，所以可以利用 Python 擷取網頁的 XHR 網址，再利用 requests 套件進行資料爬取。"
   ]
  },
  {
   "cell_type": "code",
   "execution_count": null,
   "metadata": {},
   "outputs": [],
   "source": []
  },
  {
   "cell_type": "markdown",
   "metadata": {},
   "source": [
    "## 2. 使用 twstock 套組讀取股票資料"
   ]
  },
  {
   "cell_type": "markdown",
   "metadata": {},
   "source": [
    "twstock 為專為台灣股市所撰寫的套件，可以查詢到各類股票資訊及即時股票狀況。<br>\n",
    "twstock 套件詳細內容：https://github.com/mlouielu/twstock / https://twstock.readthedocs.io/zh_TW/latest/index.html"
   ]
  },
  {
   "cell_type": "markdown",
   "metadata": {},
   "source": [
    "### 基本語法"
   ]
  },
  {
   "cell_type": "code",
   "execution_count": 2,
   "metadata": {},
   "outputs": [],
   "source": [
    "import twstock as ts\n",
    "\n",
    "# 建立物件，以元大台灣 50 為例\n",
    "Stock1 = ts.Stock(\"0050\")"
   ]
  },
  {
   "cell_type": "code",
   "execution_count": 3,
   "metadata": {},
   "outputs": [
    {
     "data": {
      "text/plain": [
       "[87.0,\n",
       " 87.0,\n",
       " 86.5,\n",
       " 86.4,\n",
       " 86.0,\n",
       " 85.65,\n",
       " 85.55,\n",
       " 84.95,\n",
       " 86.5,\n",
       " 85.85,\n",
       " 85.4,\n",
       " 86.15,\n",
       " 85.9,\n",
       " 86.85,\n",
       " 87.1,\n",
       " 86.9,\n",
       " 87.35,\n",
       " 86.9,\n",
       " 87.35,\n",
       " 86.05,\n",
       " 85.95,\n",
       " 84.9,\n",
       " 83.45,\n",
       " 83.0,\n",
       " 83.25,\n",
       " 77.4,\n",
       " 80.05,\n",
       " 79.2,\n",
       " 79.3,\n",
       " 79.4,\n",
       " 79.15]"
      ]
     },
     "execution_count": 3,
     "metadata": {},
     "output_type": "execute_result"
    }
   ],
   "source": [
    "# 查詢股票價格，會回傳最近 31 筆收盤價\n",
    "Stock1.price"
   ]
  },
  {
   "cell_type": "code",
   "execution_count": 4,
   "metadata": {},
   "outputs": [
    {
     "data": {
      "text/plain": [
       "[87.0,\n",
       " 87.3,\n",
       " 86.9,\n",
       " 86.45,\n",
       " 86.6,\n",
       " 86.0,\n",
       " 85.9,\n",
       " 85.8,\n",
       " 86.5,\n",
       " 86.5,\n",
       " 85.7,\n",
       " 86.3,\n",
       " 86.55,\n",
       " 86.85,\n",
       " 87.15,\n",
       " 87.0,\n",
       " 87.45,\n",
       " 87.65,\n",
       " 87.4,\n",
       " 87.25,\n",
       " 86.3,\n",
       " 85.7,\n",
       " 84.5,\n",
       " 83.4,\n",
       " 83.4,\n",
       " 80.15,\n",
       " 80.05,\n",
       " 79.5,\n",
       " 79.5,\n",
       " 80.5,\n",
       " 79.75]"
      ]
     },
     "execution_count": 4,
     "metadata": {},
     "output_type": "execute_result"
    }
   ],
   "source": [
    "# 回傳最近 31 筆盤中最高價\n",
    "Stock1.high"
   ]
  },
  {
   "cell_type": "code",
   "execution_count": 5,
   "metadata": {},
   "outputs": [
    {
     "data": {
      "text/plain": [
       "[86.45,\n",
       " 86.7,\n",
       " 86.2,\n",
       " 86.0,\n",
       " 85.65,\n",
       " 85.4,\n",
       " 85.25,\n",
       " 84.9,\n",
       " 85.6,\n",
       " 85.7,\n",
       " 85.2,\n",
       " 85.7,\n",
       " 85.8,\n",
       " 85.9,\n",
       " 86.6,\n",
       " 86.75,\n",
       " 86.6,\n",
       " 86.6,\n",
       " 86.9,\n",
       " 86.0,\n",
       " 85.8,\n",
       " 84.8,\n",
       " 83.0,\n",
       " 82.5,\n",
       " 82.8,\n",
       " 77.35,\n",
       " 77.5,\n",
       " 78.65,\n",
       " 78.6,\n",
       " 79.35,\n",
       " 78.95]"
      ]
     },
     "execution_count": 5,
     "metadata": {},
     "output_type": "execute_result"
    }
   ],
   "source": [
    "# 回傳最近 31 筆盤中最低價\n",
    "Stock1.low"
   ]
  },
  {
   "cell_type": "code",
   "execution_count": 6,
   "metadata": {},
   "outputs": [
    {
     "data": {
      "text/plain": [
       "[datetime.datetime(2018, 9, 4, 0, 0),\n",
       " datetime.datetime(2018, 9, 5, 0, 0),\n",
       " datetime.datetime(2018, 9, 6, 0, 0),\n",
       " datetime.datetime(2018, 9, 7, 0, 0),\n",
       " datetime.datetime(2018, 9, 10, 0, 0),\n",
       " datetime.datetime(2018, 9, 11, 0, 0),\n",
       " datetime.datetime(2018, 9, 12, 0, 0),\n",
       " datetime.datetime(2018, 9, 13, 0, 0),\n",
       " datetime.datetime(2018, 9, 14, 0, 0),\n",
       " datetime.datetime(2018, 9, 17, 0, 0),\n",
       " datetime.datetime(2018, 9, 18, 0, 0),\n",
       " datetime.datetime(2018, 9, 19, 0, 0),\n",
       " datetime.datetime(2018, 9, 20, 0, 0),\n",
       " datetime.datetime(2018, 9, 21, 0, 0),\n",
       " datetime.datetime(2018, 9, 25, 0, 0),\n",
       " datetime.datetime(2018, 9, 26, 0, 0),\n",
       " datetime.datetime(2018, 9, 27, 0, 0),\n",
       " datetime.datetime(2018, 9, 28, 0, 0),\n",
       " datetime.datetime(2018, 10, 1, 0, 0),\n",
       " datetime.datetime(2018, 10, 2, 0, 0),\n",
       " datetime.datetime(2018, 10, 3, 0, 0),\n",
       " datetime.datetime(2018, 10, 4, 0, 0),\n",
       " datetime.datetime(2018, 10, 5, 0, 0),\n",
       " datetime.datetime(2018, 10, 8, 0, 0),\n",
       " datetime.datetime(2018, 10, 9, 0, 0),\n",
       " datetime.datetime(2018, 10, 11, 0, 0),\n",
       " datetime.datetime(2018, 10, 12, 0, 0),\n",
       " datetime.datetime(2018, 10, 15, 0, 0),\n",
       " datetime.datetime(2018, 10, 16, 0, 0),\n",
       " datetime.datetime(2018, 10, 17, 0, 0),\n",
       " datetime.datetime(2018, 10, 18, 0, 0)]"
      ]
     },
     "execution_count": 6,
     "metadata": {},
     "output_type": "execute_result"
    }
   ],
   "source": [
    "# 回傳最近 31 筆日期資料\n",
    "Stock1.date"
   ]
  },
  {
   "cell_type": "code",
   "execution_count": 10,
   "metadata": {},
   "outputs": [
    {
     "data": {
      "text/plain": [
       "[Data(date=datetime.datetime(2018, 10, 1, 0, 0), capacity=5914234, turnover=516131207, open=86.9, high=87.4, low=86.9, close=87.35, change=0.45, transaction=2729),\n",
       " Data(date=datetime.datetime(2018, 10, 2, 0, 0), capacity=5434332, turnover=469382289, open=87.25, high=87.25, low=86.0, close=86.05, change=-1.3, transaction=2466),\n",
       " Data(date=datetime.datetime(2018, 10, 3, 0, 0), capacity=4369690, turnover=375778640, open=86.05, high=86.3, low=85.8, close=85.95, change=-0.1, transaction=1554),\n",
       " Data(date=datetime.datetime(2018, 10, 4, 0, 0), capacity=9736968, turnover=827292110, open=85.7, high=85.7, low=84.8, close=84.9, change=-1.05, transaction=4230),\n",
       " Data(date=datetime.datetime(2018, 10, 5, 0, 0), capacity=26744096, turnover=2239942717, open=84.5, high=84.5, low=83.0, close=83.45, change=-1.45, transaction=11367)]"
      ]
     },
     "execution_count": 10,
     "metadata": {},
     "output_type": "execute_result"
    }
   ],
   "source": [
    "# 回傳指定月份的資料的前五筆\n",
    "Stock1.fetch(2018, 10)[:5]"
   ]
  },
  {
   "cell_type": "code",
   "execution_count": 9,
   "metadata": {},
   "outputs": [
    {
     "data": {
      "text/plain": [
       "[Data(date=datetime.datetime(2018, 8, 1, 0, 0), capacity=4012507, turnover=345034802, open=85.8, high=86.2, low=85.8, close=86.15, change=0.6, transaction=1507),\n",
       " Data(date=datetime.datetime(2018, 8, 2, 0, 0), capacity=4774950, turnover=408144300, open=86.1, high=86.15, low=84.85, close=84.85, change=-1.3, transaction=1255),\n",
       " Data(date=datetime.datetime(2018, 8, 3, 0, 0), capacity=1225166, turnover=104806018, open=85.4, high=85.7, low=85.35, close=85.55, change=0.7, transaction=661),\n",
       " Data(date=datetime.datetime(2018, 8, 6, 0, 0), capacity=2424671, turnover=208061157, open=85.55, high=86.1, low=85.35, close=85.7, change=0.15, transaction=1169),\n",
       " Data(date=datetime.datetime(2018, 8, 7, 0, 0), capacity=1199281, turnover=102654664, open=85.7, high=85.8, low=85.4, close=85.5, change=-0.2, transaction=893)]"
      ]
     },
     "execution_count": 9,
     "metadata": {},
     "output_type": "execute_result"
    }
   ],
   "source": [
    "# 回傳指定月份到現在的資料的前五筆\n",
    "Stock1.fetch_from(2018, 8)[:5]"
   ]
  },
  {
   "cell_type": "markdown",
   "metadata": {},
   "source": [
    "### 查詢即時股票資料"
   ]
  },
  {
   "cell_type": "code",
   "execution_count": 12,
   "metadata": {},
   "outputs": [
    {
     "data": {
      "text/plain": [
       "{'timestamp': 1539844200.0,\n",
       " 'info': {'code': '0050',\n",
       "  'channel': '0050.tw',\n",
       "  'name': '元大台灣50',\n",
       "  'fullname': '元大寶來台灣卓越50證券投資信託基金',\n",
       "  'time': '2018-10-18 14:30:00'},\n",
       " 'realtime': {'latest_trade_price': '79.15',\n",
       "  'trade_volume': '257',\n",
       "  'accumulate_trade_volume': '7943',\n",
       "  'best_bid_price': ['79.10', '79.05', '79.00', '78.95', '78.90'],\n",
       "  'best_bid_volume': ['245', '344', '820', '452', '402'],\n",
       "  'best_ask_price': ['79.15', '79.20', '79.25', '79.30', '79.35'],\n",
       "  'best_ask_volume': ['1', '400', '301', '620', '229'],\n",
       "  'open': '79.50',\n",
       "  'high': '79.75',\n",
       "  'low': '78.95'},\n",
       " 'success': True}"
      ]
     },
     "execution_count": 12,
     "metadata": {},
     "output_type": "execute_result"
    }
   ],
   "source": [
    "# 查詢股票即時資料，以元大台灣 50 為例\n",
    "rt = ts.realtime.get(\"0050\")\n",
    "rt # 會回傳 0050 的基本資料、即時股價、成交量、委買及委賣量、開盤價、盤中最高及最低價、此次查詢是否成功等"
   ]
  },
  {
   "cell_type": "markdown",
   "metadata": {},
   "source": [
    "### 基本股票資訊分析"
   ]
  },
  {
   "cell_type": "markdown",
   "metadata": {},
   "source": [
    "twstock 也內建一些基本的股票分析語法，\n",
    "```\n",
    "continuous(self, data) : 股票之持續上升天數\n",
    "moving_average(self, data: list, days: int) : 計算股票之日數平均值\n",
    "ma_bias_ratio(self, day1, day2) : 計算 day1 日以及 day2 之乖離值\n",
    "ma_bias_ratio_pivot(self, data, sample_size=5, position=False) : 判斷正負乖離\n",
    "```"
   ]
  },
  {
   "cell_type": "code",
   "execution_count": 18,
   "metadata": {},
   "outputs": [
    {
     "name": "stdout",
     "output_type": "stream",
     "text": [
      "[262.2, 262.7, 262.0, 260.8, 260.2, 258.9, 257.8, 257.3, 258.3, 258.4, 259.5, 261.3, 262.7, 263.2, 263.5, 262.3, 261.6, 259.4, 256.9, 253.0, 250.3, 243.8, 240.4, 236.5, 235.2, 234.1, 235.9]\n",
      "[48307977.8, 49013110.0, 46155011.2, 45790949.6, 44848447.8, 37286399.6, 35166374.8, 41478924.0, 41002502.2, 40295853.2, 40283194.0, 38419186.6, 32122518.6, 32936201.6, 30117882.8, 32800568.6, 32834052.8, 32736924.0, 32887158.8, 38622074.4, 36730445.2, 50891469.4, 54177477.8, 55392401.8, 53001425.6, 55792328.2, 42144282.8]\n",
      "1\n",
      "[-1.650000000000034, -2.4499999999999886, -2.349999999999966, -1.25, -0.9000000000000341, 0.30000000000001137, 1.75, 2.6999999999999886, 2.4499999999999886, 2.5500000000000114, 1.400000000000034, 0.1500000000000341, -1.650000000000034, -3.150000000000034, -5.25, -6.0, -8.899999999999977, -9.5, -10.199999999999989, -8.900000000000006, -8.099999999999994, -3.9499999999999886]\n"
     ]
    }
   ],
   "source": [
    "stock = ts.Stock('2330')                          # 擷取台積電股價\n",
    "ma_p = stock.moving_average(stock.price, 5)       # 計算五日均價\n",
    "ma_c = stock.moving_average(stock.capacity, 5)    # 計算五日均量\n",
    "ma_p_cont = stock.continuous(ma_p)                # 計算五日均價持續天數\n",
    "ma_br = stock.ma_bias_ratio(5, 10)                # 計算五日、十日乖離值\n",
    "\n",
    "print(ma_p)\n",
    "print(ma_c)\n",
    "print(ma_p_cont)\n",
    "print(ma_br)"
   ]
  },
  {
   "cell_type": "markdown",
   "metadata": {},
   "source": [
    "### 四大買賣點 (Best Four Points)"
   ]
  },
  {
   "cell_type": "markdown",
   "metadata": {},
   "source": [
    "BestFourPoint 四大買賣點判斷來自 toomore/grs 之中的一個功能， 透過四大買賣點來判斷是否要買賣股票。四個買賣點分別為：\n",
    "```\n",
    "1. 量大收紅 / 量大收黑\n",
    "2. 量縮價不跌 / 量縮價跌\n",
    "3. 三日均價由下往上 / 三日均價由上往下\n",
    "4. 三日均價大於六日均價 / 三日均價小於六日均價\n",
    "```"
   ]
  },
  {
   "cell_type": "code",
   "execution_count": 26,
   "metadata": {},
   "outputs": [
    {
     "data": {
      "text/plain": [
       "False"
      ]
     },
     "execution_count": 26,
     "metadata": {},
     "output_type": "execute_result"
    }
   ],
   "source": [
    "stock = ts.Stock('3231')\n",
    "bfp = ts.BestFourPoint(stock)\n",
    "bfp.best_four_point_to_buy()   # 判斷是否為四大買點"
   ]
  },
  {
   "cell_type": "code",
   "execution_count": 27,
   "metadata": {},
   "outputs": [
    {
     "data": {
      "text/plain": [
       "'量縮價跌, 三日均價小於六日均價'"
      ]
     },
     "execution_count": 27,
     "metadata": {},
     "output_type": "execute_result"
    }
   ],
   "source": [
    "bfp.best_four_point_to_sell()  # 判斷是否為四大賣點"
   ]
  },
  {
   "cell_type": "code",
   "execution_count": 28,
   "metadata": {},
   "outputs": [
    {
     "data": {
      "text/plain": [
       "(False, '量縮價跌, 三日均價小於六日均價')"
      ]
     },
     "execution_count": 28,
     "metadata": {},
     "output_type": "execute_result"
    }
   ],
   "source": [
    "bfp.best_four_point()          # 綜合判斷"
   ]
  },
  {
   "cell_type": "code",
   "execution_count": null,
   "metadata": {},
   "outputs": [],
   "source": []
  }
 ],
 "metadata": {
  "kernelspec": {
   "display_name": "Python 3",
   "language": "python",
   "name": "python3"
  },
  "language_info": {
   "codemirror_mode": {
    "name": "ipython",
    "version": 3
   },
   "file_extension": ".py",
   "mimetype": "text/x-python",
   "name": "python",
   "nbconvert_exporter": "python",
   "pygments_lexer": "ipython3",
   "version": "3.6.5"
  }
 },
 "nbformat": 4,
 "nbformat_minor": 2
}
