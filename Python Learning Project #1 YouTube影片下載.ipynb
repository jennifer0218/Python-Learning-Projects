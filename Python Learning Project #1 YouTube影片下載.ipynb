{
 "cells": [
  {
   "cell_type": "markdown",
   "metadata": {},
   "source": [
    "# Python Learning Project #1 YouTube影片下載"
   ]
  },
  {
   "cell_type": "markdown",
   "metadata": {},
   "source": [
    "利用 Pytube 套件即可以很簡單的下載 Youtube 上的影片，而下載的影片會儲存於與程式相同的資料夾中。\n",
    "\n",
    "Pytube 套件介紹 : https://github.com/nficano/pytube"
   ]
  },
  {
   "cell_type": "markdown",
   "metadata": {},
   "source": [
    "## 1. 下載單一 YouTube 影片"
   ]
  },
  {
   "cell_type": "code",
   "execution_count": 6,
   "metadata": {},
   "outputs": [
    {
     "name": "stdout",
     "output_type": "stream",
     "text": [
      "Start Downloading\n",
      "楊丞琳  青春住了誰 KTV 伴奏Download Finished!\n"
     ]
    }
   ],
   "source": [
    "from pytube import YouTube\n",
    "\n",
    "# 指定影片 url 建立物件\n",
    "v1 = YouTube(\"https://www.youtube.com/watch?v=gNbYtNa9RtQ\")\n",
    "\n",
    "# 印出影片名稱\n",
    "print(\"Start Downloading\")\n",
    "\n",
    "# 下載第一種格式的影片\n",
    "v1.streams.first().download()\n",
    "print(v1.title + \"Download Finished!\")"
   ]
  },
  {
   "cell_type": "markdown",
   "metadata": {},
   "source": [
    "下載後的檔案名稱即為影片原始的名稱。\n",
    "\n",
    "若要指定下載儲存路徑，可於 download() 函數中加入路徑。"
   ]
  },
  {
   "cell_type": "code",
   "execution_count": 8,
   "metadata": {},
   "outputs": [
    {
     "name": "stdout",
     "output_type": "stream",
     "text": [
      "10\n",
      "[<Stream: itag=\"18\" mime_type=\"video/mp4\" res=\"360p\" fps=\"30fps\" vcodec=\"avc1.42001E\" acodec=\"mp4a.40.2\">, <Stream: itag=\"36\" mime_type=\"video/3gpp\" res=\"240p\" fps=\"30fps\" vcodec=\"mp4v.20.3\" acodec=\"mp4a.40.2\">, <Stream: itag=\"17\" mime_type=\"video/3gpp\" res=\"144p\" fps=\"30fps\" vcodec=\"mp4v.20.3\" acodec=\"mp4a.40.2\">, <Stream: itag=\"137\" mime_type=\"video/mp4\" res=\"1080p\" fps=\"30fps\" vcodec=\"avc1.640028\">, <Stream: itag=\"136\" mime_type=\"video/mp4\" res=\"720p\" fps=\"30fps\" vcodec=\"avc1.4d4016\">, <Stream: itag=\"135\" mime_type=\"video/mp4\" res=\"480p\" fps=\"30fps\" vcodec=\"avc1.4d4014\">, <Stream: itag=\"134\" mime_type=\"video/mp4\" res=\"360p\" fps=\"30fps\" vcodec=\"avc1.4d401e\">, <Stream: itag=\"133\" mime_type=\"video/mp4\" res=\"240p\" fps=\"30fps\" vcodec=\"avc1.4d400c\">, <Stream: itag=\"160\" mime_type=\"video/mp4\" res=\"144p\" fps=\"30fps\" vcodec=\"avc1.4d400b\">, <Stream: itag=\"140\" mime_type=\"audio/mp4\" abr=\"128kbps\" acodec=\"mp4a.40.2\">]\n"
     ]
    }
   ],
   "source": [
    "# 查看影片提供幾種格式\n",
    "print(v1.streams.count())\n",
    "\n",
    "# 查看所有格式\n",
    "print(v1.streams.all())"
   ]
  },
  {
   "cell_type": "code",
   "execution_count": 12,
   "metadata": {},
   "outputs": [
    {
     "name": "stdout",
     "output_type": "stream",
     "text": [
      "3\n",
      "[<Stream: itag=\"18\" mime_type=\"video/mp4\" res=\"360p\" fps=\"30fps\" vcodec=\"avc1.42001E\" acodec=\"mp4a.40.2\">, <Stream: itag=\"36\" mime_type=\"video/3gpp\" res=\"240p\" fps=\"30fps\" vcodec=\"mp4v.20.3\" acodec=\"mp4a.40.2\">, <Stream: itag=\"17\" mime_type=\"video/3gpp\" res=\"144p\" fps=\"30fps\" vcodec=\"mp4v.20.3\" acodec=\"mp4a.40.2\">]\n"
     ]
    }
   ],
   "source": [
    "# 計算有多少格式是同時包含影像及聲音\n",
    "print(v1.streams.filter(progressive = True).count())\n",
    "\n",
    "# 回傳所有同時包含影像及聲音的格式\n",
    "print(v1.streams.filter(progressive = True).all())"
   ]
  },
  {
   "cell_type": "code",
   "execution_count": 15,
   "metadata": {},
   "outputs": [
    {
     "data": {
      "text/plain": [
       "'G:\\\\My Drive\\\\KTV\\\\楊丞琳  青春住了誰 KTV 伴奏.mp4'"
      ]
     },
     "execution_count": 15,
     "metadata": {},
     "output_type": "execute_result"
    }
   ],
   "source": [
    "# 指定下載格式為 mp4 的第一個影片，並儲存於指定路徑\n",
    "v1.streams.filter(subtype = \"mp4\").first().download(\"G:\\My Drive\\KTV\")"
   ]
  },
  {
   "cell_type": "markdown",
   "metadata": {},
   "source": [
    "## 2. 批次下載 YouTube 影片及 mp3 檔"
   ]
  },
  {
   "cell_type": "markdown",
   "metadata": {},
   "source": [
    "YouTube 提供播放清單的功能，但若要一個一個下載播放清單中的影片需要耗費很多時間，而 Pytube 也提供了 playlist 語法可以直接下載整個清單。<br>\n",
    "另外需要注意的是，若播放清單設定為私人使用的話，則會無法成功下載，因此若要下載個人私有的播放清單，需先將設定調整為開放。"
   ]
  },
  {
   "cell_type": "code",
   "execution_count": 16,
   "metadata": {},
   "outputs": [],
   "source": [
    "from pytube import Playlist\n",
    "\n",
    "# 給定播放清單 url 建立物件\n",
    "pl = Playlist(\"https://www.youtube.com/playlist?list=PLwgWCkFhO5d48UcFp-jIa1Es5E9YzwQZG\")\n",
    "\n",
    "# 直接下載全部影片\n",
    "pl.download_all()"
   ]
  },
  {
   "cell_type": "markdown",
   "metadata": {},
   "source": [
    "但是 Playlist 只能下載影片檔，且預設下載最好的畫質，沒辦法像 YouTube 一樣篩選想要的格式，所以若想下載 mp3 檔案的話，必須結合 Playlist 及 YouTube 兩個函數。"
   ]
  },
  {
   "cell_type": "code",
   "execution_count": 7,
   "metadata": {},
   "outputs": [
    {
     "name": "stdout",
     "output_type": "stream",
     "text": [
      "丁噹 [ 有一種勇氣叫放棄Courage of Giving Up ] 官方戲劇版Music Video - 戲劇「風中奇緣」片尾曲Download Finished!\n",
      "丁当-亲人Download Finished!\n",
      "Della丁噹 [ 只是不夠愛自己Love Myself More ] Official Music Video - 中天/中視「雲中歌」片尾曲Download Finished!\n",
      "楊丞琳Rainie Yang - 失憶的金魚 (Official HD MV)Download Finished!\n",
      "楊丞琳Rainie Yang - 點水 (Official HD MV)Download Finished!\n",
      "《搁浅》纯享版：杨丞琳 - 蒙面唱将猜猜猜1016Download Finished!\n"
     ]
    }
   ],
   "source": [
    "from pytube import YouTube\n",
    "from pytube import Playlist\n",
    "\n",
    "pl = Playlist(\"https://www.youtube.com/playlist?list=PLwgWCkFhO5d48UcFp-jIa1Es5E9YzwQZG\")\n",
    "\n",
    "# 擷取播放清單中的所有 url\n",
    "playlist_url = pl.parse_links()\n",
    "\n",
    "for url in playlist_url:\n",
    "    URL = \"https://www.youtube.com\" + url\n",
    "    \n",
    "    # 設置下載僅有音訊的格式，並儲存至指定路徑\n",
    "    print(yt.title + \"Download Finished!\")\n",
    "    YouTube(URL).streams.filter(only_audio = True).first().download(\"G:\\My Drive\\mp3\")"
   ]
  },
  {
   "cell_type": "code",
   "execution_count": null,
   "metadata": {},
   "outputs": [],
   "source": []
  }
 ],
 "metadata": {
  "kernelspec": {
   "display_name": "Python 3",
   "language": "python",
   "name": "python3"
  },
  "language_info": {
   "codemirror_mode": {
    "name": "ipython",
    "version": 3
   },
   "file_extension": ".py",
   "mimetype": "text/x-python",
   "name": "python",
   "nbconvert_exporter": "python",
   "pygments_lexer": "ipython3",
   "version": "3.6.5"
  }
 },
 "nbformat": 4,
 "nbformat_minor": 2
}
